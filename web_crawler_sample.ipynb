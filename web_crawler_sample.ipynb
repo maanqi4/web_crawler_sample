{
 "cells": [
  {
   "cell_type": "code",
   "execution_count": 14,
   "id": "b8ad0b42",
   "metadata": {},
   "outputs": [],
   "source": [
    "import requests\n",
    "req = requests.get('https://en.wikipedia.org/wiki/Gaussian_process')"
   ]
  },
  {
   "cell_type": "code",
   "execution_count": 15,
   "id": "3da67aca",
   "metadata": {},
   "outputs": [],
   "source": [
    "webpage = req.text"
   ]
  },
  {
   "cell_type": "code",
   "execution_count": 16,
   "id": "76a874c6",
   "metadata": {},
   "outputs": [],
   "source": [
    "from bs4 import BeautifulSoup\n",
    "\n",
    "soup = BeautifulSoup(webpage, 'html.parser')"
   ]
  },
  {
   "cell_type": "code",
   "execution_count": 20,
   "id": "5c55fc26",
   "metadata": {},
   "outputs": [
    {
     "data": {
      "text/plain": [
       "56"
      ]
     },
     "execution_count": 20,
     "metadata": {},
     "output_type": "execute_result"
    }
   ],
   "source": [
    "paragraph = soup.find_all('p', attrs={'class':False})"
   ]
  },
  {
   "cell_type": "code",
   "execution_count": 21,
   "id": "41085fbb",
   "metadata": {},
   "outputs": [],
   "source": [
    "import time\n",
    "from random import random\n",
    "import pandas as pd\n",
    "\n",
    "data = {\"title\":[], \"href\":[]}\n",
    "for p in paragraph:\n",
    "    for link in p.find_all('a', attrs={'title': True}):\n",
    "        data[\"title\"].append(link[\"title\"])\n",
    "        data[\"href\"].append(link[\"href\"])\n",
    "        \n",
    "df = pd.DataFrame(data)      "
   ]
  },
  {
   "cell_type": "code",
   "execution_count": 22,
   "id": "fc006c4e",
   "metadata": {},
   "outputs": [
    {
     "data": {
      "text/html": [
       "<div>\n",
       "<style scoped>\n",
       "    .dataframe tbody tr th:only-of-type {\n",
       "        vertical-align: middle;\n",
       "    }\n",
       "\n",
       "    .dataframe tbody tr th {\n",
       "        vertical-align: top;\n",
       "    }\n",
       "\n",
       "    .dataframe thead th {\n",
       "        text-align: right;\n",
       "    }\n",
       "</style>\n",
       "<table border=\"1\" class=\"dataframe\">\n",
       "  <thead>\n",
       "    <tr style=\"text-align: right;\">\n",
       "      <th></th>\n",
       "      <th>title</th>\n",
       "      <th>href</th>\n",
       "    </tr>\n",
       "  </thead>\n",
       "  <tbody>\n",
       "    <tr>\n",
       "      <th>0</th>\n",
       "      <td>Probability theory</td>\n",
       "      <td>/wiki/Probability_theory</td>\n",
       "    </tr>\n",
       "    <tr>\n",
       "      <th>1</th>\n",
       "      <td>Statistics</td>\n",
       "      <td>/wiki/Statistics</td>\n",
       "    </tr>\n",
       "    <tr>\n",
       "      <th>2</th>\n",
       "      <td>Stochastic process</td>\n",
       "      <td>/wiki/Stochastic_process</td>\n",
       "    </tr>\n",
       "    <tr>\n",
       "      <th>3</th>\n",
       "      <td>Multivariate normal distribution</td>\n",
       "      <td>/wiki/Multivariate_normal_distribution</td>\n",
       "    </tr>\n",
       "    <tr>\n",
       "      <th>4</th>\n",
       "      <td>Joint distribution</td>\n",
       "      <td>/wiki/Joint_distribution</td>\n",
       "    </tr>\n",
       "    <tr>\n",
       "      <th>...</th>\n",
       "      <td>...</td>\n",
       "      <td>...</td>\n",
       "    </tr>\n",
       "    <tr>\n",
       "      <th>81</th>\n",
       "      <td>Statistical parameter</td>\n",
       "      <td>/wiki/Statistical_parameter</td>\n",
       "    </tr>\n",
       "    <tr>\n",
       "      <th>82</th>\n",
       "      <td>Artificial neuron</td>\n",
       "      <td>/wiki/Artificial_neuron</td>\n",
       "    </tr>\n",
       "    <tr>\n",
       "      <th>83</th>\n",
       "      <td>Closed-form expression</td>\n",
       "      <td>/wiki/Closed-form_expression</td>\n",
       "    </tr>\n",
       "    <tr>\n",
       "      <th>84</th>\n",
       "      <td>Deep learning</td>\n",
       "      <td>/wiki/Deep_learning</td>\n",
       "    </tr>\n",
       "    <tr>\n",
       "      <th>85</th>\n",
       "      <td>Gaussian process approximations</td>\n",
       "      <td>/wiki/Gaussian_process_approximations</td>\n",
       "    </tr>\n",
       "  </tbody>\n",
       "</table>\n",
       "<p>86 rows × 2 columns</p>\n",
       "</div>"
      ],
      "text/plain": [
       "                               title                                    href\n",
       "0                 Probability theory                /wiki/Probability_theory\n",
       "1                         Statistics                        /wiki/Statistics\n",
       "2                 Stochastic process                /wiki/Stochastic_process\n",
       "3   Multivariate normal distribution  /wiki/Multivariate_normal_distribution\n",
       "4                 Joint distribution                /wiki/Joint_distribution\n",
       "..                               ...                                     ...\n",
       "81             Statistical parameter             /wiki/Statistical_parameter\n",
       "82                 Artificial neuron                 /wiki/Artificial_neuron\n",
       "83            Closed-form expression            /wiki/Closed-form_expression\n",
       "84                     Deep learning                     /wiki/Deep_learning\n",
       "85   Gaussian process approximations   /wiki/Gaussian_process_approximations\n",
       "\n",
       "[86 rows x 2 columns]"
      ]
     },
     "execution_count": 22,
     "metadata": {},
     "output_type": "execute_result"
    }
   ],
   "source": [
    "df"
   ]
  },
  {
   "cell_type": "code",
   "execution_count": 23,
   "id": "cd8d26e2",
   "metadata": {},
   "outputs": [],
   "source": [
    "df.to_csv('Sample_data.csv')"
   ]
  }
 ],
 "metadata": {
  "kernelspec": {
   "display_name": "Python 3 (ipykernel)",
   "language": "python",
   "name": "python3"
  },
  "language_info": {
   "codemirror_mode": {
    "name": "ipython",
    "version": 3
   },
   "file_extension": ".py",
   "mimetype": "text/x-python",
   "name": "python",
   "nbconvert_exporter": "python",
   "pygments_lexer": "ipython3",
   "version": "3.11.5"
  }
 },
 "nbformat": 4,
 "nbformat_minor": 5
}
